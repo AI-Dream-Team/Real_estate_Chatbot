{
 "cells": [
  {
   "cell_type": "code",
   "execution_count": 1,
   "id": "8c538698",
   "metadata": {},
   "outputs": [],
   "source": [
    "import pandas as pd\n",
    "import numpy as np\n",
    "from sklearn.model_selection import train_test_split\n",
    "from sklearn.linear_model import LinearRegression\n",
    "from sklearn.metrics import mean_squared_error, r2_score\n",
    "import matplotlib.pyplot as plt\n",
    "import seaborn as sns"
   ]
  },
  {
   "cell_type": "code",
   "execution_count": 2,
   "id": "ca660f2d",
   "metadata": {
    "scrolled": true
   },
   "outputs": [
    {
     "data": {
      "text/html": [
       "<div>\n",
       "<style scoped>\n",
       "    .dataframe tbody tr th:only-of-type {\n",
       "        vertical-align: middle;\n",
       "    }\n",
       "\n",
       "    .dataframe tbody tr th {\n",
       "        vertical-align: top;\n",
       "    }\n",
       "\n",
       "    .dataframe thead th {\n",
       "        text-align: right;\n",
       "    }\n",
       "</style>\n",
       "<table border=\"1\" class=\"dataframe\">\n",
       "  <thead>\n",
       "    <tr style=\"text-align: right;\">\n",
       "      <th></th>\n",
       "      <th>id</th>\n",
       "      <th>date</th>\n",
       "      <th>price</th>\n",
       "      <th>bedrooms</th>\n",
       "      <th>bathrooms</th>\n",
       "      <th>sqft_living</th>\n",
       "      <th>sqft_lot</th>\n",
       "      <th>floors</th>\n",
       "      <th>waterfront</th>\n",
       "      <th>view</th>\n",
       "      <th>...</th>\n",
       "      <th>grade</th>\n",
       "      <th>sqft_above</th>\n",
       "      <th>sqft_basement</th>\n",
       "      <th>yr_built</th>\n",
       "      <th>yr_renovated</th>\n",
       "      <th>zipcode</th>\n",
       "      <th>lat</th>\n",
       "      <th>long</th>\n",
       "      <th>sqft_living15</th>\n",
       "      <th>sqft_lot15</th>\n",
       "    </tr>\n",
       "  </thead>\n",
       "  <tbody>\n",
       "    <tr>\n",
       "      <th>0</th>\n",
       "      <td>7129300520</td>\n",
       "      <td>20141013T000000</td>\n",
       "      <td>221900.0</td>\n",
       "      <td>3</td>\n",
       "      <td>1.00</td>\n",
       "      <td>1180</td>\n",
       "      <td>5650</td>\n",
       "      <td>1.0</td>\n",
       "      <td>0</td>\n",
       "      <td>0</td>\n",
       "      <td>...</td>\n",
       "      <td>7</td>\n",
       "      <td>1180.0</td>\n",
       "      <td>0</td>\n",
       "      <td>1955</td>\n",
       "      <td>0</td>\n",
       "      <td>98178</td>\n",
       "      <td>47.5112</td>\n",
       "      <td>-122.257</td>\n",
       "      <td>1340</td>\n",
       "      <td>5650</td>\n",
       "    </tr>\n",
       "    <tr>\n",
       "      <th>1</th>\n",
       "      <td>6414100192</td>\n",
       "      <td>20141209T000000</td>\n",
       "      <td>538000.0</td>\n",
       "      <td>3</td>\n",
       "      <td>2.25</td>\n",
       "      <td>2570</td>\n",
       "      <td>7242</td>\n",
       "      <td>2.0</td>\n",
       "      <td>0</td>\n",
       "      <td>0</td>\n",
       "      <td>...</td>\n",
       "      <td>7</td>\n",
       "      <td>2170.0</td>\n",
       "      <td>400</td>\n",
       "      <td>1951</td>\n",
       "      <td>1991</td>\n",
       "      <td>98125</td>\n",
       "      <td>47.7210</td>\n",
       "      <td>-122.319</td>\n",
       "      <td>1690</td>\n",
       "      <td>7639</td>\n",
       "    </tr>\n",
       "    <tr>\n",
       "      <th>2</th>\n",
       "      <td>5631500400</td>\n",
       "      <td>20150225T000000</td>\n",
       "      <td>180000.0</td>\n",
       "      <td>2</td>\n",
       "      <td>1.00</td>\n",
       "      <td>770</td>\n",
       "      <td>10000</td>\n",
       "      <td>1.0</td>\n",
       "      <td>0</td>\n",
       "      <td>0</td>\n",
       "      <td>...</td>\n",
       "      <td>6</td>\n",
       "      <td>770.0</td>\n",
       "      <td>0</td>\n",
       "      <td>1933</td>\n",
       "      <td>0</td>\n",
       "      <td>98028</td>\n",
       "      <td>47.7379</td>\n",
       "      <td>-122.233</td>\n",
       "      <td>2720</td>\n",
       "      <td>8062</td>\n",
       "    </tr>\n",
       "    <tr>\n",
       "      <th>3</th>\n",
       "      <td>2487200875</td>\n",
       "      <td>20141209T000000</td>\n",
       "      <td>604000.0</td>\n",
       "      <td>4</td>\n",
       "      <td>3.00</td>\n",
       "      <td>1960</td>\n",
       "      <td>5000</td>\n",
       "      <td>1.0</td>\n",
       "      <td>0</td>\n",
       "      <td>0</td>\n",
       "      <td>...</td>\n",
       "      <td>7</td>\n",
       "      <td>1050.0</td>\n",
       "      <td>910</td>\n",
       "      <td>1965</td>\n",
       "      <td>0</td>\n",
       "      <td>98136</td>\n",
       "      <td>47.5208</td>\n",
       "      <td>-122.393</td>\n",
       "      <td>1360</td>\n",
       "      <td>5000</td>\n",
       "    </tr>\n",
       "    <tr>\n",
       "      <th>4</th>\n",
       "      <td>1954400510</td>\n",
       "      <td>20150218T000000</td>\n",
       "      <td>510000.0</td>\n",
       "      <td>3</td>\n",
       "      <td>2.00</td>\n",
       "      <td>1680</td>\n",
       "      <td>8080</td>\n",
       "      <td>1.0</td>\n",
       "      <td>0</td>\n",
       "      <td>0</td>\n",
       "      <td>...</td>\n",
       "      <td>8</td>\n",
       "      <td>1680.0</td>\n",
       "      <td>0</td>\n",
       "      <td>1987</td>\n",
       "      <td>0</td>\n",
       "      <td>98074</td>\n",
       "      <td>47.6168</td>\n",
       "      <td>-122.045</td>\n",
       "      <td>1800</td>\n",
       "      <td>7503</td>\n",
       "    </tr>\n",
       "  </tbody>\n",
       "</table>\n",
       "<p>5 rows × 21 columns</p>\n",
       "</div>"
      ],
      "text/plain": [
       "           id             date     price  bedrooms  bathrooms  sqft_living  \\\n",
       "0  7129300520  20141013T000000  221900.0         3       1.00         1180   \n",
       "1  6414100192  20141209T000000  538000.0         3       2.25         2570   \n",
       "2  5631500400  20150225T000000  180000.0         2       1.00          770   \n",
       "3  2487200875  20141209T000000  604000.0         4       3.00         1960   \n",
       "4  1954400510  20150218T000000  510000.0         3       2.00         1680   \n",
       "\n",
       "   sqft_lot  floors  waterfront  view  ...  grade  sqft_above  sqft_basement  \\\n",
       "0      5650     1.0           0     0  ...      7      1180.0              0   \n",
       "1      7242     2.0           0     0  ...      7      2170.0            400   \n",
       "2     10000     1.0           0     0  ...      6       770.0              0   \n",
       "3      5000     1.0           0     0  ...      7      1050.0            910   \n",
       "4      8080     1.0           0     0  ...      8      1680.0              0   \n",
       "\n",
       "   yr_built  yr_renovated  zipcode      lat     long  sqft_living15  \\\n",
       "0      1955             0    98178  47.5112 -122.257           1340   \n",
       "1      1951          1991    98125  47.7210 -122.319           1690   \n",
       "2      1933             0    98028  47.7379 -122.233           2720   \n",
       "3      1965             0    98136  47.5208 -122.393           1360   \n",
       "4      1987             0    98074  47.6168 -122.045           1800   \n",
       "\n",
       "   sqft_lot15  \n",
       "0        5650  \n",
       "1        7639  \n",
       "2        8062  \n",
       "3        5000  \n",
       "4        7503  \n",
       "\n",
       "[5 rows x 21 columns]"
      ]
     },
     "execution_count": 2,
     "metadata": {},
     "output_type": "execute_result"
    }
   ],
   "source": [
    "data = pd.read_csv('data.csv')\n",
    "data.head()"
   ]
  },
  {
   "cell_type": "code",
   "execution_count": 3,
   "id": "42f787bb",
   "metadata": {},
   "outputs": [
    {
     "name": "stdout",
     "output_type": "stream",
     "text": [
      "id               0\n",
      "date             0\n",
      "price            0\n",
      "bedrooms         0\n",
      "bathrooms        0\n",
      "sqft_living      0\n",
      "sqft_lot         0\n",
      "floors           0\n",
      "waterfront       0\n",
      "view             0\n",
      "condition        0\n",
      "grade            0\n",
      "sqft_above       2\n",
      "sqft_basement    0\n",
      "yr_built         0\n",
      "yr_renovated     0\n",
      "zipcode          0\n",
      "lat              0\n",
      "long             0\n",
      "sqft_living15    0\n",
      "sqft_lot15       0\n",
      "dtype: int64\n"
     ]
    }
   ],
   "source": [
    "missing_values = data.isnull().sum()\n",
    "print(missing_values)"
   ]
  },
  {
   "cell_type": "code",
   "execution_count": 4,
   "id": "3c8e3ff9",
   "metadata": {},
   "outputs": [],
   "source": [
    "data.drop('date', axis=1, inplace=True)"
   ]
  },
  {
   "cell_type": "code",
   "execution_count": 5,
   "id": "970e8947",
   "metadata": {},
   "outputs": [],
   "source": [
    "data.drop('id', axis=1, inplace=True)"
   ]
  },
  {
   "cell_type": "code",
   "execution_count": 6,
   "id": "9a8a0b98",
   "metadata": {},
   "outputs": [],
   "source": [
    "data.dropna(inplace=True)"
   ]
  },
  {
   "cell_type": "code",
   "execution_count": 7,
   "id": "285e4763",
   "metadata": {},
   "outputs": [
    {
     "name": "stdout",
     "output_type": "stream",
     "text": [
      "price            0\n",
      "bedrooms         0\n",
      "bathrooms        0\n",
      "sqft_living      0\n",
      "sqft_lot         0\n",
      "floors           0\n",
      "waterfront       0\n",
      "view             0\n",
      "condition        0\n",
      "grade            0\n",
      "sqft_above       0\n",
      "sqft_basement    0\n",
      "yr_built         0\n",
      "yr_renovated     0\n",
      "zipcode          0\n",
      "lat              0\n",
      "long             0\n",
      "sqft_living15    0\n",
      "sqft_lot15       0\n",
      "dtype: int64\n"
     ]
    }
   ],
   "source": [
    "missing_values = data.isnull().sum()\n",
    "print(missing_values)"
   ]
  },
  {
   "cell_type": "code",
   "execution_count": 8,
   "id": "ffe42ec9",
   "metadata": {
    "scrolled": true
   },
   "outputs": [
    {
     "data": {
      "text/html": [
       "<div>\n",
       "<style scoped>\n",
       "    .dataframe tbody tr th:only-of-type {\n",
       "        vertical-align: middle;\n",
       "    }\n",
       "\n",
       "    .dataframe tbody tr th {\n",
       "        vertical-align: top;\n",
       "    }\n",
       "\n",
       "    .dataframe thead th {\n",
       "        text-align: right;\n",
       "    }\n",
       "</style>\n",
       "<table border=\"1\" class=\"dataframe\">\n",
       "  <thead>\n",
       "    <tr style=\"text-align: right;\">\n",
       "      <th></th>\n",
       "      <th>price</th>\n",
       "      <th>bedrooms</th>\n",
       "      <th>bathrooms</th>\n",
       "      <th>sqft_living</th>\n",
       "      <th>sqft_lot</th>\n",
       "      <th>floors</th>\n",
       "      <th>waterfront</th>\n",
       "      <th>view</th>\n",
       "      <th>condition</th>\n",
       "      <th>grade</th>\n",
       "      <th>sqft_above</th>\n",
       "      <th>sqft_basement</th>\n",
       "      <th>yr_built</th>\n",
       "      <th>yr_renovated</th>\n",
       "      <th>zipcode</th>\n",
       "      <th>lat</th>\n",
       "      <th>long</th>\n",
       "      <th>sqft_living15</th>\n",
       "      <th>sqft_lot15</th>\n",
       "    </tr>\n",
       "  </thead>\n",
       "  <tbody>\n",
       "    <tr>\n",
       "      <th>count</th>\n",
       "      <td>2.161100e+04</td>\n",
       "      <td>21611.000000</td>\n",
       "      <td>21611.000000</td>\n",
       "      <td>21611.000000</td>\n",
       "      <td>2.161100e+04</td>\n",
       "      <td>21611.000000</td>\n",
       "      <td>21611.000000</td>\n",
       "      <td>21611.000000</td>\n",
       "      <td>21611.000000</td>\n",
       "      <td>21611.000000</td>\n",
       "      <td>21611.000000</td>\n",
       "      <td>21611.000000</td>\n",
       "      <td>21611.000000</td>\n",
       "      <td>21611.000000</td>\n",
       "      <td>21611.000000</td>\n",
       "      <td>21611.000000</td>\n",
       "      <td>21611.000000</td>\n",
       "      <td>21611.000000</td>\n",
       "      <td>21611.000000</td>\n",
       "    </tr>\n",
       "    <tr>\n",
       "      <th>mean</th>\n",
       "      <td>5.400850e+05</td>\n",
       "      <td>3.370830</td>\n",
       "      <td>2.114791</td>\n",
       "      <td>2079.853454</td>\n",
       "      <td>1.510771e+04</td>\n",
       "      <td>1.494332</td>\n",
       "      <td>0.007542</td>\n",
       "      <td>0.234325</td>\n",
       "      <td>3.409421</td>\n",
       "      <td>7.656888</td>\n",
       "      <td>1788.396095</td>\n",
       "      <td>291.457360</td>\n",
       "      <td>1971.007959</td>\n",
       "      <td>84.410069</td>\n",
       "      <td>98077.941928</td>\n",
       "      <td>47.560046</td>\n",
       "      <td>-122.213894</td>\n",
       "      <td>1986.559576</td>\n",
       "      <td>12769.025357</td>\n",
       "    </tr>\n",
       "    <tr>\n",
       "      <th>std</th>\n",
       "      <td>3.671430e+05</td>\n",
       "      <td>0.930092</td>\n",
       "      <td>0.770157</td>\n",
       "      <td>918.422406</td>\n",
       "      <td>4.142235e+04</td>\n",
       "      <td>0.540003</td>\n",
       "      <td>0.086521</td>\n",
       "      <td>0.766350</td>\n",
       "      <td>0.650755</td>\n",
       "      <td>1.175502</td>\n",
       "      <td>828.128162</td>\n",
       "      <td>442.487355</td>\n",
       "      <td>29.372358</td>\n",
       "      <td>401.697007</td>\n",
       "      <td>53.505054</td>\n",
       "      <td>0.138568</td>\n",
       "      <td>0.140831</td>\n",
       "      <td>685.416548</td>\n",
       "      <td>27305.369808</td>\n",
       "    </tr>\n",
       "    <tr>\n",
       "      <th>min</th>\n",
       "      <td>7.500000e+04</td>\n",
       "      <td>0.000000</td>\n",
       "      <td>0.000000</td>\n",
       "      <td>290.000000</td>\n",
       "      <td>5.200000e+02</td>\n",
       "      <td>1.000000</td>\n",
       "      <td>0.000000</td>\n",
       "      <td>0.000000</td>\n",
       "      <td>1.000000</td>\n",
       "      <td>1.000000</td>\n",
       "      <td>290.000000</td>\n",
       "      <td>0.000000</td>\n",
       "      <td>1900.000000</td>\n",
       "      <td>0.000000</td>\n",
       "      <td>98001.000000</td>\n",
       "      <td>47.155900</td>\n",
       "      <td>-122.519000</td>\n",
       "      <td>399.000000</td>\n",
       "      <td>651.000000</td>\n",
       "    </tr>\n",
       "    <tr>\n",
       "      <th>25%</th>\n",
       "      <td>3.217250e+05</td>\n",
       "      <td>3.000000</td>\n",
       "      <td>1.750000</td>\n",
       "      <td>1426.000000</td>\n",
       "      <td>5.040000e+03</td>\n",
       "      <td>1.000000</td>\n",
       "      <td>0.000000</td>\n",
       "      <td>0.000000</td>\n",
       "      <td>3.000000</td>\n",
       "      <td>7.000000</td>\n",
       "      <td>1190.000000</td>\n",
       "      <td>0.000000</td>\n",
       "      <td>1951.000000</td>\n",
       "      <td>0.000000</td>\n",
       "      <td>98033.000000</td>\n",
       "      <td>47.470950</td>\n",
       "      <td>-122.328000</td>\n",
       "      <td>1490.000000</td>\n",
       "      <td>5100.000000</td>\n",
       "    </tr>\n",
       "    <tr>\n",
       "      <th>50%</th>\n",
       "      <td>4.500000e+05</td>\n",
       "      <td>3.000000</td>\n",
       "      <td>2.250000</td>\n",
       "      <td>1910.000000</td>\n",
       "      <td>7.618000e+03</td>\n",
       "      <td>1.500000</td>\n",
       "      <td>0.000000</td>\n",
       "      <td>0.000000</td>\n",
       "      <td>3.000000</td>\n",
       "      <td>7.000000</td>\n",
       "      <td>1560.000000</td>\n",
       "      <td>0.000000</td>\n",
       "      <td>1975.000000</td>\n",
       "      <td>0.000000</td>\n",
       "      <td>98065.000000</td>\n",
       "      <td>47.571800</td>\n",
       "      <td>-122.230000</td>\n",
       "      <td>1840.000000</td>\n",
       "      <td>7620.000000</td>\n",
       "    </tr>\n",
       "    <tr>\n",
       "      <th>75%</th>\n",
       "      <td>6.450000e+05</td>\n",
       "      <td>4.000000</td>\n",
       "      <td>2.500000</td>\n",
       "      <td>2550.000000</td>\n",
       "      <td>1.068850e+04</td>\n",
       "      <td>2.000000</td>\n",
       "      <td>0.000000</td>\n",
       "      <td>0.000000</td>\n",
       "      <td>4.000000</td>\n",
       "      <td>8.000000</td>\n",
       "      <td>2210.000000</td>\n",
       "      <td>560.000000</td>\n",
       "      <td>1997.000000</td>\n",
       "      <td>0.000000</td>\n",
       "      <td>98118.000000</td>\n",
       "      <td>47.678000</td>\n",
       "      <td>-122.125000</td>\n",
       "      <td>2360.000000</td>\n",
       "      <td>10083.500000</td>\n",
       "    </tr>\n",
       "    <tr>\n",
       "      <th>max</th>\n",
       "      <td>7.700000e+06</td>\n",
       "      <td>33.000000</td>\n",
       "      <td>8.000000</td>\n",
       "      <td>13540.000000</td>\n",
       "      <td>1.651359e+06</td>\n",
       "      <td>3.500000</td>\n",
       "      <td>1.000000</td>\n",
       "      <td>4.000000</td>\n",
       "      <td>5.000000</td>\n",
       "      <td>13.000000</td>\n",
       "      <td>9410.000000</td>\n",
       "      <td>4820.000000</td>\n",
       "      <td>2015.000000</td>\n",
       "      <td>2015.000000</td>\n",
       "      <td>98199.000000</td>\n",
       "      <td>47.777600</td>\n",
       "      <td>-121.315000</td>\n",
       "      <td>6210.000000</td>\n",
       "      <td>871200.000000</td>\n",
       "    </tr>\n",
       "  </tbody>\n",
       "</table>\n",
       "</div>"
      ],
      "text/plain": [
       "              price      bedrooms     bathrooms   sqft_living      sqft_lot  \\\n",
       "count  2.161100e+04  21611.000000  21611.000000  21611.000000  2.161100e+04   \n",
       "mean   5.400850e+05      3.370830      2.114791   2079.853454  1.510771e+04   \n",
       "std    3.671430e+05      0.930092      0.770157    918.422406  4.142235e+04   \n",
       "min    7.500000e+04      0.000000      0.000000    290.000000  5.200000e+02   \n",
       "25%    3.217250e+05      3.000000      1.750000   1426.000000  5.040000e+03   \n",
       "50%    4.500000e+05      3.000000      2.250000   1910.000000  7.618000e+03   \n",
       "75%    6.450000e+05      4.000000      2.500000   2550.000000  1.068850e+04   \n",
       "max    7.700000e+06     33.000000      8.000000  13540.000000  1.651359e+06   \n",
       "\n",
       "             floors    waterfront          view     condition         grade  \\\n",
       "count  21611.000000  21611.000000  21611.000000  21611.000000  21611.000000   \n",
       "mean       1.494332      0.007542      0.234325      3.409421      7.656888   \n",
       "std        0.540003      0.086521      0.766350      0.650755      1.175502   \n",
       "min        1.000000      0.000000      0.000000      1.000000      1.000000   \n",
       "25%        1.000000      0.000000      0.000000      3.000000      7.000000   \n",
       "50%        1.500000      0.000000      0.000000      3.000000      7.000000   \n",
       "75%        2.000000      0.000000      0.000000      4.000000      8.000000   \n",
       "max        3.500000      1.000000      4.000000      5.000000     13.000000   \n",
       "\n",
       "         sqft_above  sqft_basement      yr_built  yr_renovated       zipcode  \\\n",
       "count  21611.000000   21611.000000  21611.000000  21611.000000  21611.000000   \n",
       "mean    1788.396095     291.457360   1971.007959     84.410069  98077.941928   \n",
       "std      828.128162     442.487355     29.372358    401.697007     53.505054   \n",
       "min      290.000000       0.000000   1900.000000      0.000000  98001.000000   \n",
       "25%     1190.000000       0.000000   1951.000000      0.000000  98033.000000   \n",
       "50%     1560.000000       0.000000   1975.000000      0.000000  98065.000000   \n",
       "75%     2210.000000     560.000000   1997.000000      0.000000  98118.000000   \n",
       "max     9410.000000    4820.000000   2015.000000   2015.000000  98199.000000   \n",
       "\n",
       "                lat          long  sqft_living15     sqft_lot15  \n",
       "count  21611.000000  21611.000000   21611.000000   21611.000000  \n",
       "mean      47.560046   -122.213894    1986.559576   12769.025357  \n",
       "std        0.138568      0.140831     685.416548   27305.369808  \n",
       "min       47.155900   -122.519000     399.000000     651.000000  \n",
       "25%       47.470950   -122.328000    1490.000000    5100.000000  \n",
       "50%       47.571800   -122.230000    1840.000000    7620.000000  \n",
       "75%       47.678000   -122.125000    2360.000000   10083.500000  \n",
       "max       47.777600   -121.315000    6210.000000  871200.000000  "
      ]
     },
     "execution_count": 8,
     "metadata": {},
     "output_type": "execute_result"
    }
   ],
   "source": [
    "data.describe()"
   ]
  },
  {
   "cell_type": "code",
   "execution_count": 9,
   "id": "2886de79",
   "metadata": {},
   "outputs": [],
   "source": [
    "X = data.drop(['price'], axis=1)\n",
    "y = data['price']"
   ]
  },
  {
   "cell_type": "code",
   "execution_count": 10,
   "id": "bb5ebea8",
   "metadata": {},
   "outputs": [],
   "source": [
    "X_train, X_test, y_train, y_test = train_test_split(X, y, test_size=0.2, random_state=42)"
   ]
  },
  {
   "cell_type": "markdown",
   "id": "4195302a",
   "metadata": {},
   "source": [
    "# Linear Regression"
   ]
  },
  {
   "cell_type": "code",
   "execution_count": 11,
   "id": "6eb2e054",
   "metadata": {
    "scrolled": true
   },
   "outputs": [
    {
     "data": {
      "text/html": [
       "<style>#sk-container-id-1 {color: black;background-color: white;}#sk-container-id-1 pre{padding: 0;}#sk-container-id-1 div.sk-toggleable {background-color: white;}#sk-container-id-1 label.sk-toggleable__label {cursor: pointer;display: block;width: 100%;margin-bottom: 0;padding: 0.3em;box-sizing: border-box;text-align: center;}#sk-container-id-1 label.sk-toggleable__label-arrow:before {content: \"▸\";float: left;margin-right: 0.25em;color: #696969;}#sk-container-id-1 label.sk-toggleable__label-arrow:hover:before {color: black;}#sk-container-id-1 div.sk-estimator:hover label.sk-toggleable__label-arrow:before {color: black;}#sk-container-id-1 div.sk-toggleable__content {max-height: 0;max-width: 0;overflow: hidden;text-align: left;background-color: #f0f8ff;}#sk-container-id-1 div.sk-toggleable__content pre {margin: 0.2em;color: black;border-radius: 0.25em;background-color: #f0f8ff;}#sk-container-id-1 input.sk-toggleable__control:checked~div.sk-toggleable__content {max-height: 200px;max-width: 100%;overflow: auto;}#sk-container-id-1 input.sk-toggleable__control:checked~label.sk-toggleable__label-arrow:before {content: \"▾\";}#sk-container-id-1 div.sk-estimator input.sk-toggleable__control:checked~label.sk-toggleable__label {background-color: #d4ebff;}#sk-container-id-1 div.sk-label input.sk-toggleable__control:checked~label.sk-toggleable__label {background-color: #d4ebff;}#sk-container-id-1 input.sk-hidden--visually {border: 0;clip: rect(1px 1px 1px 1px);clip: rect(1px, 1px, 1px, 1px);height: 1px;margin: -1px;overflow: hidden;padding: 0;position: absolute;width: 1px;}#sk-container-id-1 div.sk-estimator {font-family: monospace;background-color: #f0f8ff;border: 1px dotted black;border-radius: 0.25em;box-sizing: border-box;margin-bottom: 0.5em;}#sk-container-id-1 div.sk-estimator:hover {background-color: #d4ebff;}#sk-container-id-1 div.sk-parallel-item::after {content: \"\";width: 100%;border-bottom: 1px solid gray;flex-grow: 1;}#sk-container-id-1 div.sk-label:hover label.sk-toggleable__label {background-color: #d4ebff;}#sk-container-id-1 div.sk-serial::before {content: \"\";position: absolute;border-left: 1px solid gray;box-sizing: border-box;top: 0;bottom: 0;left: 50%;z-index: 0;}#sk-container-id-1 div.sk-serial {display: flex;flex-direction: column;align-items: center;background-color: white;padding-right: 0.2em;padding-left: 0.2em;position: relative;}#sk-container-id-1 div.sk-item {position: relative;z-index: 1;}#sk-container-id-1 div.sk-parallel {display: flex;align-items: stretch;justify-content: center;background-color: white;position: relative;}#sk-container-id-1 div.sk-item::before, #sk-container-id-1 div.sk-parallel-item::before {content: \"\";position: absolute;border-left: 1px solid gray;box-sizing: border-box;top: 0;bottom: 0;left: 50%;z-index: -1;}#sk-container-id-1 div.sk-parallel-item {display: flex;flex-direction: column;z-index: 1;position: relative;background-color: white;}#sk-container-id-1 div.sk-parallel-item:first-child::after {align-self: flex-end;width: 50%;}#sk-container-id-1 div.sk-parallel-item:last-child::after {align-self: flex-start;width: 50%;}#sk-container-id-1 div.sk-parallel-item:only-child::after {width: 0;}#sk-container-id-1 div.sk-dashed-wrapped {border: 1px dashed gray;margin: 0 0.4em 0.5em 0.4em;box-sizing: border-box;padding-bottom: 0.4em;background-color: white;}#sk-container-id-1 div.sk-label label {font-family: monospace;font-weight: bold;display: inline-block;line-height: 1.2em;}#sk-container-id-1 div.sk-label-container {text-align: center;}#sk-container-id-1 div.sk-container {/* jupyter's `normalize.less` sets `[hidden] { display: none; }` but bootstrap.min.css set `[hidden] { display: none !important; }` so we also need the `!important` here to be able to override the default hidden behavior on the sphinx rendered scikit-learn.org. See: https://github.com/scikit-learn/scikit-learn/issues/21755 */display: inline-block !important;position: relative;}#sk-container-id-1 div.sk-text-repr-fallback {display: none;}</style><div id=\"sk-container-id-1\" class=\"sk-top-container\"><div class=\"sk-text-repr-fallback\"><pre>LinearRegression()</pre><b>In a Jupyter environment, please rerun this cell to show the HTML representation or trust the notebook. <br />On GitHub, the HTML representation is unable to render, please try loading this page with nbviewer.org.</b></div><div class=\"sk-container\" hidden><div class=\"sk-item\"><div class=\"sk-estimator sk-toggleable\"><input class=\"sk-toggleable__control sk-hidden--visually\" id=\"sk-estimator-id-1\" type=\"checkbox\" checked><label for=\"sk-estimator-id-1\" class=\"sk-toggleable__label sk-toggleable__label-arrow\">LinearRegression</label><div class=\"sk-toggleable__content\"><pre>LinearRegression()</pre></div></div></div></div></div>"
      ],
      "text/plain": [
       "LinearRegression()"
      ]
     },
     "execution_count": 11,
     "metadata": {},
     "output_type": "execute_result"
    }
   ],
   "source": [
    "model = LinearRegression()\n",
    "model.fit(X_train, y_train)"
   ]
  },
  {
   "cell_type": "code",
   "execution_count": 12,
   "id": "f24b2776",
   "metadata": {},
   "outputs": [],
   "source": [
    "y_pred = model.predict(X_test)"
   ]
  },
  {
   "cell_type": "code",
   "execution_count": 13,
   "id": "e4035a77",
   "metadata": {},
   "outputs": [
    {
     "name": "stdout",
     "output_type": "stream",
     "text": [
      "Mean Squared Error: 43445419498.75585\n"
     ]
    }
   ],
   "source": [
    "mse = mean_squared_error(y_test, y_pred)\n",
    "print(\"Mean Squared Error:\", mse)"
   ]
  },
  {
   "cell_type": "code",
   "execution_count": 14,
   "id": "cc0e46aa",
   "metadata": {},
   "outputs": [
    {
     "name": "stdout",
     "output_type": "stream",
     "text": [
      "R^2 Score: 0.7092033124955541\n"
     ]
    }
   ],
   "source": [
    "# Make predictions on the test set\n",
    "y_pred = model.predict(X_test)\n",
    "\n",
    "# Calculate R^2 score\n",
    "r2 = r2_score(y_test, y_pred)\n",
    "print(\"R^2 Score:\", r2)"
   ]
  },
  {
   "cell_type": "code",
   "execution_count": 15,
   "id": "31ab0ffc",
   "metadata": {},
   "outputs": [
    {
     "name": "stdout",
     "output_type": "stream",
     "text": [
      "Training R^2 Score: 0.696703011512855\n",
      "Testing R^2 Score: 0.7092033124955541\n"
     ]
    }
   ],
   "source": [
    "# Make predictions on the training set\n",
    "y_train_pred = model.predict(X_train)\n",
    "\n",
    "# Calculate R^2 score for training set\n",
    "train_r = r2_score(y_train, y_train_pred)\n",
    "print(\"Training R^2 Score:\", train_r)\n",
    "\n",
    "# Make predictions on the test set\n",
    "y_test_pred = model.predict(X_test)\n",
    "\n",
    "# Calculate R^2 score for test set\n",
    "test_r = r2_score(y_test, y_test_pred)\n",
    "print(\"Testing R^2 Score:\", test_r)"
   ]
  },
  {
   "cell_type": "code",
   "execution_count": 16,
   "id": "afb1e6b0",
   "metadata": {
    "scrolled": false
   },
   "outputs": [
    {
     "data": {
      "text/plain": [
       "<AxesSubplot:xlabel='waterfront', ylabel='price'>"
      ]
     },
     "execution_count": 16,
     "metadata": {},
     "output_type": "execute_result"
    },
    {
     "data": {
      "image/png": "[encoded data removed]",
      "text/plain": [
       "<Figure size 432x288 with 1 Axes>"
      ]
     },
     "metadata": {
      "needs_background": "light"
     },
     "output_type": "display_data"
    }
   ],
   "source": [
    "import seaborn as sns\n",
    "%matplotlib inline\n",
    "sns.boxplot(x='waterfront',y='price',data=data)"
   ]
  },
  {
   "cell_type": "markdown",
   "id": "4df1034e",
   "metadata": {},
   "source": [
    "## Cross-validation and regularization techniques using Ridge regression"
   ]
  },
  {
   "cell_type": "code",
   "execution_count": 17,
   "id": "fa84e0e1",
   "metadata": {},
   "outputs": [
    {
     "name": "stdout",
     "output_type": "stream",
     "text": [
      "Cross-Validation Scores:\n",
      "[4.40307545e+10 4.53361938e+10 3.79548168e+10 3.63994863e+10\n",
      " 3.62176251e+10]\n",
      "Average MSE: 39987775309.24807\n",
      "Test Score: 0.7092026940058495\n"
     ]
    }
   ],
   "source": [
    "from sklearn.pipeline import make_pipeline\n",
    "from sklearn.preprocessing import StandardScaler\n",
    "from sklearn.model_selection import cross_val_score, train_test_split\n",
    "from sklearn.linear_model import Ridge\n",
    "\n",
    "# Create a pipeline with feature scaling and Ridge regression\n",
    "pipeline = make_pipeline(StandardScaler(), Ridge(alpha=0.5))\n",
    "\n",
    "# Perform cross-validation\n",
    "cv_scores = cross_val_score(pipeline, X_train, y_train, cv=5, scoring='neg_mean_squared_error')\n",
    "\n",
    "# Convert the negative MSE scores to positive values\n",
    "cv_scores = -cv_scores\n",
    "\n",
    "# Print the cross-validation scores\n",
    "print(\"Cross-Validation Scores:\")\n",
    "print(cv_scores)\n",
    "print(\"Average MSE:\", np.mean(cv_scores))\n",
    "\n",
    "# Fit the model on the training data\n",
    "pipeline.fit(X_train, y_train)\n",
    "\n",
    "# Evaluate the model on the test data\n",
    "test_score = pipeline.score(X_test, y_test)\n",
    "print(\"Test Score:\", test_score)"
   ]
  },
  {
   "cell_type": "markdown",
   "id": "1194ee2b",
   "metadata": {},
   "source": [
    "## Cross-validation and apply regularization techniques using Random forest"
   ]
  },
  {
   "cell_type": "code",
   "execution_count": 18,
   "id": "c13c4766",
   "metadata": {},
   "outputs": [
    {
     "name": "stdout",
     "output_type": "stream",
     "text": [
      "Cross-Validation Scores:\n",
      "[1.78971291e+10 1.82441791e+10 1.46524013e+10 1.59028731e+10\n",
      " 1.85711988e+10]\n",
      "Average MSE: 17053556278.976986\n",
      "Train MSE: 2372559269.264744\n",
      "Train R^2 Score: 0.9819052414587827\n",
      "Test MSE: 18265768201.029846\n",
      "Test R^2 Score: 0.8777402785180695\n"
     ]
    }
   ],
   "source": [
    "from sklearn.model_selection import cross_val_score, train_test_split\n",
    "from sklearn.ensemble import RandomForestRegressor\n",
    "from sklearn.metrics import mean_squared_error, r2_score\n",
    "\n",
    "# Create a Random Forest regressor with regularization\n",
    "rf = RandomForestRegressor(n_estimators=100, random_state=42)\n",
    "\n",
    "# Perform cross-validation\n",
    "cv_scores = cross_val_score(rf, X_train, y_train, cv=5, scoring='neg_mean_squared_error')\n",
    "cv_scores = -cv_scores\n",
    "\n",
    "# Fit the model on the training data\n",
    "rf.fit(X_train, y_train)\n",
    "\n",
    "# Predict on the training data\n",
    "y_train_pred = rf.predict(X_train)\n",
    "train_mse = mean_squared_error(y_train, y_train_pred)\n",
    "train_r2 = r2_score(y_train, y_train_pred)\n",
    "\n",
    "# Predict on the test data\n",
    "y_test_pred = rf.predict(X_test)\n",
    "test_mse = mean_squared_error(y_test, y_test_pred)\n",
    "test_r2 = r2_score(y_test, y_test_pred)\n",
    "\n",
    "# Print the cross-validation scores and metrics\n",
    "print(\"Cross-Validation Scores:\")\n",
    "print(cv_scores)\n",
    "print(\"Average MSE:\", cv_scores.mean())\n",
    "print(\"Train MSE:\", train_mse)\n",
    "print(\"Train R^2 Score:\", train_r2)\n",
    "print(\"Test MSE:\", test_mse)\n",
    "print(\"Test R^2 Score:\", test_r2)\n"
   ]
  },
  {
   "cell_type": "markdown",
   "id": "d6c43e14",
   "metadata": {},
   "source": [
    "# Random Forest"
   ]
  },
  {
   "cell_type": "code",
   "execution_count": 19,
   "id": "aac595b5",
   "metadata": {},
   "outputs": [
    {
     "name": "stdout",
     "output_type": "stream",
     "text": [
      "R^2 Score: 0.8760677725288432\n"
     ]
    }
   ],
   "source": [
    "from sklearn.ensemble import RandomForestRegressor\n",
    "\n",
    "# Create a Random Forest Regression model\n",
    "model1 = RandomForestRegressor()\n",
    "\n",
    "# Train the model\n",
    "model1.fit(X_train, y_train)\n",
    "\n",
    "# Make predictions on the test set\n",
    "y_pred1 = model1.predict(X_test)\n",
    "\n",
    "# Calculate R^2 score\n",
    "r2 = r2_score(y_test, y_pred1)\n",
    "print(\"R^2 Score:\", r2)"
   ]
  },
  {
   "cell_type": "code",
   "execution_count": 20,
   "id": "c63959cc",
   "metadata": {},
   "outputs": [
    {
     "name": "stdout",
     "output_type": "stream",
     "text": [
      "Training R^2 Score: 0.9825096642289739\n",
      "Testing R^2 Score: 0.8760677725288432\n"
     ]
    }
   ],
   "source": [
    "# Make predictions on the training set\n",
    "y_train_pred = model1.predict(X_train)\n",
    "\n",
    "# Calculate R^2 score for training set\n",
    "train_r1 = r2_score(y_train, y_train_pred)\n",
    "print(\"Training R^2 Score:\", train_r1)\n",
    "\n",
    "# Make predictions on the test set\n",
    "y_test_pred = model1.predict(X_test)\n",
    "\n",
    "# Calculate R^2 score for test set\n",
    "test_r1 = r2_score(y_test, y_test_pred)\n",
    "print(\"Testing R^2 Score:\", test_r1)"
   ]
  },
  {
   "cell_type": "code",
   "execution_count": 21,
   "id": "1b0eafb9",
   "metadata": {},
   "outputs": [
    {
     "data": {
      "text/plain": [
       "['random_forest_model.pkl']"
      ]
     },
     "execution_count": 21,
     "metadata": {},
     "output_type": "execute_result"
    }
   ],
   "source": [
    "import joblib\n",
    "\n",
    "# Save the model to a file\n",
    "joblib.dump(model1, 'random_forest_model.pkl')"
   ]
  },
  {
   "cell_type": "markdown",
   "id": "93dd7e99",
   "metadata": {},
   "source": [
    "# Gradient Boosting Regression model"
   ]
  },
  {
   "cell_type": "code",
   "execution_count": 22,
   "id": "6d350b5e",
   "metadata": {},
   "outputs": [
    {
     "name": "stdout",
     "output_type": "stream",
     "text": [
      "R^2 Score: 0.8705254933810994\n"
     ]
    }
   ],
   "source": [
    "from sklearn.ensemble import GradientBoostingRegressor\n",
    "\n",
    "# Create a Gradient Boosting Regression model\n",
    "model2 = GradientBoostingRegressor()\n",
    "\n",
    "# Train the model\n",
    "model2.fit(X_train, y_train)\n",
    "\n",
    "# Make predictions on the test set\n",
    "y_pred2 = model2.predict(X_test)\n",
    "\n",
    "# Calculate R^2 score\n",
    "r2 = r2_score(y_test, y_pred2)\n",
    "print(\"R^2 Score:\", r2)"
   ]
  },
  {
   "cell_type": "code",
   "execution_count": 23,
   "id": "b624952e",
   "metadata": {},
   "outputs": [
    {
     "name": "stdout",
     "output_type": "stream",
     "text": [
      "Training R^2 Score: 0.9034080048596912\n",
      "Testing R^2 Score: 0.8705254933810994\n"
     ]
    }
   ],
   "source": [
    "# Make predictions on the training set\n",
    "y_train_pred = model2.predict(X_train)\n",
    "\n",
    "# Calculate R^2 score for training set\n",
    "train_r2 = r2_score(y_train, y_train_pred)\n",
    "print(\"Training R^2 Score:\", train_r2)\n",
    "\n",
    "# Make predictions on the test set\n",
    "y_test_pred = model2.predict(X_test)\n",
    "\n",
    "# Calculate R^2 score for test set\n",
    "test_r2 = r2_score(y_test, y_test_pred)\n",
    "print(\"Testing R^2 Score:\", test_r2)"
   ]
  },
  {
   "cell_type": "markdown",
   "id": "a2a19508",
   "metadata": {},
   "source": [
    "# SVR"
   ]
  },
  {
   "cell_type": "code",
   "execution_count": 24,
   "id": "98b84261",
   "metadata": {},
   "outputs": [
    {
     "name": "stdout",
     "output_type": "stream",
     "text": [
      "R^2 Score: -0.0628528345812791\n"
     ]
    }
   ],
   "source": [
    "from sklearn.svm import SVR\n",
    "\n",
    "# Create an SVR model\n",
    "model3 = SVR()\n",
    "\n",
    "# Train the model\n",
    "model3.fit(X_train, y_train)\n",
    "\n",
    "# Make predictions on the test set\n",
    "y_pred3 = model3.predict(X_test)\n",
    "\n",
    "# Calculate R^2 score\n",
    "r2 = r2_score(y_test, y_pred3)\n",
    "print(\"R^2 Score:\", r2)\n"
   ]
  },
  {
   "cell_type": "code",
   "execution_count": 25,
   "id": "d11bff1e",
   "metadata": {},
   "outputs": [
    {
     "name": "stdout",
     "output_type": "stream",
     "text": [
      "Training R^2 Score: -0.059414111253847546\n",
      "Testing R^2 Score: -0.0628528345812791\n"
     ]
    }
   ],
   "source": [
    "# Make predictions on the training set\n",
    "y_train_pred = model3.predict(X_train)\n",
    "\n",
    "# Calculate R^2 score for training set\n",
    "train_r3 = r2_score(y_train, y_train_pred)\n",
    "print(\"Training R^2 Score:\", train_r3)\n",
    "\n",
    "# Make predictions on the test set\n",
    "y_test_pred = model3.predict(X_test)\n",
    "\n",
    "# Calculate R^2 score for test set\n",
    "test_r3 = r2_score(y_test, y_test_pred)\n",
    "print(\"Testing R^2 Score:\", test_r3)"
   ]
  },
  {
   "cell_type": "markdown",
   "id": "d04b7bc3",
   "metadata": {},
   "source": [
    "# XGBoost model"
   ]
  },
  {
   "cell_type": "code",
   "execution_count": 26,
   "id": "c99740e8",
   "metadata": {},
   "outputs": [
    {
     "name": "stdout",
     "output_type": "stream",
     "text": [
      "R^2 Score: 0.8704034054948815\n"
     ]
    }
   ],
   "source": [
    "import xgboost as xgb\n",
    "from sklearn.metrics import r2_score\n",
    "\n",
    "# Convert the training and testing data into DMatrix format\n",
    "dtrain = xgb.DMatrix(X_train, label=y_train)\n",
    "dtest = xgb.DMatrix(X_test)\n",
    "\n",
    "# Set the parameters for XGBoost\n",
    "params = {\n",
    "    'objective': 'reg:squarederror',\n",
    "    'eval_metric': 'rmse',\n",
    "    'learning_rate': 0.1,\n",
    "    'max_depth': 3\n",
    "}\n",
    "\n",
    "# Train the XGBoost model\n",
    "num_boost_round = 100\n",
    "model4 = xgb.train(params, dtrain, num_boost_round=num_boost_round)\n",
    "\n",
    "# Make predictions on the test set\n",
    "y_pred4 = model4.predict(dtest)\n",
    "\n",
    "# Calculate R^2 score\n",
    "r2 = r2_score(y_test, y_pred4)\n",
    "print(\"R^2 Score:\", r2)"
   ]
  },
  {
   "cell_type": "code",
   "execution_count": 27,
   "id": "79300997",
   "metadata": {},
   "outputs": [
    {
     "name": "stdout",
     "output_type": "stream",
     "text": [
      "Training Accuracy (R^2): 0.9018684829546557\n",
      "Test Accuracy (R^2): 0.8704034054948815\n"
     ]
    }
   ],
   "source": [
    "# Make predictions on the training set\n",
    "y_train_pred = model4.predict(dtrain)\n",
    "# Calculate R^2 score for training set\n",
    "train_r4 = r2_score(y_train, y_train_pred)\n",
    "\n",
    "# Make predictions on the test set\n",
    "y_test_pred = model4.predict(dtest)\n",
    "# Calculate R^2 score for test set\n",
    "test_r4 = r2_score(y_test, y_test_pred)\n",
    "\n",
    "# Print the accuracy scores\n",
    "print(\"Training Accuracy (R^2):\", train_r4)\n",
    "print(\"Test Accuracy (R^2):\", test_r4)"
   ]
  },
  {
   "cell_type": "markdown",
   "id": "ac8c0814",
   "metadata": {},
   "source": [
    "## Ridge Regression"
   ]
  },
  {
   "cell_type": "code",
   "execution_count": 28,
   "id": "01600f71",
   "metadata": {},
   "outputs": [
    {
     "name": "stdout",
     "output_type": "stream",
     "text": [
      "Training R^2 Score: 0.6967030115128544\n",
      "Testing R^2 Score: 0.7092033124955616\n"
     ]
    }
   ],
   "source": [
    "from sklearn.linear_model import Ridge\n",
    "from sklearn.preprocessing import StandardScaler\n",
    "\n",
    "# Perform feature scaling\n",
    "scaler = StandardScaler()\n",
    "X_train_scaled = scaler.fit_transform(X_train)\n",
    "X_test_scaled = scaler.transform(X_test)\n",
    "\n",
    "# Create and train the Ridge Regression model\n",
    "ridge = Ridge(alpha=0.00000000001)  # You can adjust the alpha parameter as needed\n",
    "ridge.fit(X_train_scaled, y_train)\n",
    "\n",
    "# Make predictions on the training set\n",
    "y_train_pred = ridge.predict(X_train_scaled)\n",
    "\n",
    "# Calculate R^2 score for the training set\n",
    "train_r5 = r2_score(y_train, y_train_pred)\n",
    "print(\"Training R^2 Score:\", train_r5)\n",
    "\n",
    "# Make predictions on the test set\n",
    "y_test_pred = ridge.predict(X_test_scaled)\n",
    "\n",
    "# Calculate R^2 score for the test set\n",
    "test_r5 = r2_score(y_test, y_test_pred)\n",
    "print(\"Testing R^2 Score:\", test_r5)\n"
   ]
  },
  {
   "cell_type": "markdown",
   "id": "eb21f103",
   "metadata": {},
   "source": [
    "# Lasso Regression"
   ]
  },
  {
   "cell_type": "code",
   "execution_count": 29,
   "id": "698d879d",
   "metadata": {},
   "outputs": [
    {
     "name": "stdout",
     "output_type": "stream",
     "text": [
      "Training R^2 Score: 0.6967030111952661\n",
      "Testing R^2 Score: 0.7092037509876659\n"
     ]
    },
    {
     "name": "stderr",
     "output_type": "stream",
     "text": [
      "C:\\Users\\ikhla\\anaconda3\\lib\\site-packages\\sklearn\\linear_model\\_coordinate_descent.py:631: ConvergenceWarning: Objective did not converge. You might want to increase the number of iterations, check the scale of the features or consider increasing regularisation. Duality gap: 2.133e+13, tolerance: 2.267e+11\n",
      "  model = cd_fast.enet_coordinate_descent(\n"
     ]
    }
   ],
   "source": [
    "from sklearn.linear_model import Lasso\n",
    "from sklearn.preprocessing import StandardScaler\n",
    "\n",
    "# Perform feature scaling\n",
    "scaler = StandardScaler()\n",
    "X_train_scaled = scaler.fit_transform(X_train)\n",
    "X_test_scaled = scaler.transform(X_test)\n",
    "\n",
    "# Create and train the Lasso Regression model\n",
    "lasso = Lasso(alpha=1.0, max_iter=10000, tol=1e-4)  # Increase the number of iterations\n",
    "lasso.fit(X_train_scaled, y_train)\n",
    "\n",
    "# Make predictions on the training set\n",
    "y_train_pred = lasso.predict(X_train_scaled)\n",
    "\n",
    "# Calculate R^2 score for the training set\n",
    "train_r6 = r2_score(y_train, y_train_pred)\n",
    "print(\"Training R^2 Score:\", train_r6)\n",
    "\n",
    "# Make predictions on the test set\n",
    "y_test_pred = lasso.predict(X_test_scaled)\n",
    "\n",
    "# Calculate R^2 score for the test set\n",
    "test_r6 = r2_score(y_test, y_test_pred)\n",
    "print(\"Testing R^2 Score:\", test_r6)"
   ]
  },
  {
   "cell_type": "markdown",
   "id": "0ff11dae",
   "metadata": {},
   "source": [
    "# Elastic Net"
   ]
  },
  {
   "cell_type": "code",
   "execution_count": 30,
   "id": "b9fdad00",
   "metadata": {},
   "outputs": [
    {
     "name": "stdout",
     "output_type": "stream",
     "text": [
      "Training R^2 Score: 0.6646151821274595\n",
      "Testing R^2 Score: 0.6701266060828919\n"
     ]
    }
   ],
   "source": [
    "from sklearn.linear_model import ElasticNet\n",
    "from sklearn.preprocessing import StandardScaler\n",
    "\n",
    "# Perform feature scaling\n",
    "scaler = StandardScaler()\n",
    "X_train_scaled = scaler.fit_transform(X_train)\n",
    "X_test_scaled = scaler.transform(X_test)\n",
    "\n",
    "# Create and train the Elastic Net model\n",
    "elastic_net = ElasticNet(alpha=1.0, l1_ratio=0.5)  # You can adjust the alpha and l1_ratio parameters as needed\n",
    "elastic_net.fit(X_train_scaled, y_train)\n",
    "\n",
    "# Make predictions on the training set\n",
    "y_train_pred = elastic_net.predict(X_train_scaled)\n",
    "\n",
    "# Calculate R^2 score for the training set\n",
    "train_r7 = r2_score(y_train, y_train_pred)\n",
    "print(\"Training R^2 Score:\", train_r7)\n",
    "\n",
    "# Make predictions on the test set\n",
    "y_test_pred = elastic_net.predict(X_test_scaled)\n",
    "\n",
    "# Calculate R^2 score for the test set\n",
    "test_r7 = r2_score(y_test, y_test_pred)\n",
    "print(\"Testing R^2 Score:\", test_r7)\n"
   ]
  },
  {
   "cell_type": "markdown",
   "id": "b77214a4",
   "metadata": {},
   "source": [
    "# Polynomial Regression (Degree=2)"
   ]
  },
  {
   "cell_type": "code",
   "execution_count": 31,
   "id": "8fa6b26a",
   "metadata": {},
   "outputs": [
    {
     "name": "stdout",
     "output_type": "stream",
     "text": [
      "Training R^2 Score: 0.8252475052691872\n",
      "Testing R^2 Score: 0.8378372985238478\n"
     ]
    }
   ],
   "source": [
    "from sklearn.linear_model import LinearRegression\n",
    "from sklearn.preprocessing import PolynomialFeatures\n",
    "from sklearn.pipeline import make_pipeline\n",
    "from sklearn.preprocessing import StandardScaler\n",
    "\n",
    "# Perform feature scaling\n",
    "scaler = StandardScaler()\n",
    "X_train_scaled = scaler.fit_transform(X_train)\n",
    "X_test_scaled = scaler.transform(X_test)\n",
    "\n",
    "# Create a pipeline with PolynomialFeatures and LinearRegression\n",
    "pipeline = make_pipeline(PolynomialFeatures(degree=2), LinearRegression())\n",
    "\n",
    "# Train the model\n",
    "pipeline.fit(X_train_scaled, y_train)\n",
    "\n",
    "# Make predictions on the training set\n",
    "y_train_pred = pipeline.predict(X_train_scaled)\n",
    "\n",
    "# Calculate R^2 score for the training set\n",
    "train_r8 = r2_score(y_train, y_train_pred)\n",
    "print(\"Training R^2 Score:\", train_r8)\n",
    "\n",
    "# Make predictions on the test set\n",
    "y_test_pred = pipeline.predict(X_test_scaled)\n",
    "\n",
    "# Calculate R^2 score for the test set\n",
    "test_r8 = r2_score(y_test, y_test_pred)\n",
    "print(\"Testing R^2 Score:\", test_r8)\n"
   ]
  },
  {
   "cell_type": "markdown",
   "id": "3bf0a39c",
   "metadata": {},
   "source": [
    "# Decision tree "
   ]
  },
  {
   "cell_type": "code",
   "execution_count": 32,
   "id": "2ed950c9",
   "metadata": {},
   "outputs": [
    {
     "name": "stdout",
     "output_type": "stream",
     "text": [
      "Train Accuracy: 0.9992474717733322\n",
      "Test Accuracy: 0.7268744417142109\n"
     ]
    }
   ],
   "source": [
    "from sklearn.tree import DecisionTreeRegressor\n",
    "\n",
    "# Create a Decision Tree Regression model\n",
    "model_dt = DecisionTreeRegressor()\n",
    "\n",
    "# Train the model\n",
    "model_dt.fit(X_train, y_train)\n",
    "\n",
    "# Make predictions on the test set\n",
    "y_pred_dt = model_dt.predict(X_test)\n",
    "\n",
    "# Calculate train accuracy\n",
    "y_train_pred_dt = model_dt.predict(X_train)\n",
    "train_accuracy_dt = r2_score(y_train, y_train_pred_dt)\n",
    "\n",
    "# Calculate test accuracy\n",
    "test_accuracy_dt = r2_score(y_test, y_pred_dt)\n",
    "\n",
    "print(\"Train Accuracy:\", train_accuracy_dt)\n",
    "print(\"Test Accuracy:\", test_accuracy_dt)"
   ]
  },
  {
   "cell_type": "markdown",
   "id": "171f65b2",
   "metadata": {},
   "source": [
    "# Neural Network Regression"
   ]
  },
  {
   "cell_type": "code",
   "execution_count": 33,
   "id": "835dd27b",
   "metadata": {
    "scrolled": true
   },
   "outputs": [
    {
     "name": "stdout",
     "output_type": "stream",
     "text": [
      "541/541 [==============================] - 1s 1ms/step\n",
      "136/136 [==============================] - 0s 1ms/step\n",
      "Train R^2 Score: 0.9345515787939384\n",
      "Test R^2 Score: 0.8796310698954735\n"
     ]
    }
   ],
   "source": [
    "from sklearn.preprocessing import StandardScaler\n",
    "from tensorflow.keras.models import Sequential\n",
    "from tensorflow.keras.layers import Dense\n",
    "from tensorflow.keras.optimizers import Adam\n",
    "\n",
    "# Standardize the features\n",
    "scaler = StandardScaler()\n",
    "X_train = scaler.fit_transform(X_train)\n",
    "X_test = scaler.transform(X_test)\n",
    "\n",
    "# Create the neural network model\n",
    "model_nn1 = Sequential()\n",
    "model_nn1.add(Dense(64, activation='relu', input_shape=(X_train.shape[1],)))\n",
    "model_nn1.add(Dense(64, activation='relu'))\n",
    "model_nn1.add(Dense(32, activation='relu'))\n",
    "model_nn1.add(Dense(32, activation='relu'))\n",
    "model_nn1.add(Dense(32, activation='relu'))\n",
    "model_nn1.add(Dense(16, activation='relu'))\n",
    "model_nn1.add(Dense(8, activation='relu'))\n",
    "model_nn1.add(Dense(1))\n",
    "\n",
    "# Compile the model\n",
    "model_nn1.compile(optimizer=Adam(learning_rate=0.001), loss='mean_squared_error')\n",
    "\n",
    "# Train the model\n",
    "history = model_nn1.fit(X_train, y_train, batch_size=32, epochs=220, verbose=0)\n",
    "\n",
    "# Make predictions on the train and test sets\n",
    "y_train_pred = model_nn1.predict(X_train)\n",
    "y_test_pred = model_nn1.predict(X_test)\n",
    "\n",
    "# Calculate R^2 score for train and test sets\n",
    "r2_train_nn1 = r2_score(y_train, y_train_pred)\n",
    "r2_test_nn1 = r2_score(y_test, y_test_pred)\n",
    "print(\"Train R^2 Score:\", r2_train_nn1)\n",
    "print(\"Test R^2 Score:\", r2_test_nn1)"
   ]
  },
  {
   "cell_type": "code",
   "execution_count": 34,
   "id": "d45daf54",
   "metadata": {},
   "outputs": [
    {
     "name": "stdout",
     "output_type": "stream",
     "text": [
      "136/136 [==============================] - 1s 2ms/step - loss: 17983279104.0000\n"
     ]
    },
    {
     "data": {
      "image/png": "[encoded data removed]",
      "text/plain": [
       "<Figure size 864x288 with 1 Axes>"
      ]
     },
     "metadata": {
      "needs_background": "light"
     },
     "output_type": "display_data"
    },
    {
     "name": "stdout",
     "output_type": "stream",
     "text": [
      "Test Loss: 17983279104.0\n"
     ]
    }
   ],
   "source": [
    "# Extract train loss from history\n",
    "train_loss = history.history['loss']\n",
    "\n",
    "# Evaluate the model on the test set\n",
    "test_loss = model_nn1.evaluate(X_test, y_test)\n",
    "\n",
    "# Plot train loss\n",
    "plt.figure(figsize=(12, 4))\n",
    "plt.plot(train_loss)\n",
    "plt.title('Train Loss')\n",
    "plt.xlabel('Epoch')\n",
    "plt.ylabel('Loss')\n",
    "plt.show()\n",
    "\n",
    "# Print test loss\n",
    "print(\"Test Loss:\", test_loss)"
   ]
  },
  {
   "cell_type": "markdown",
   "id": "5861835d",
   "metadata": {},
   "source": [
    "# Models comparison"
   ]
  },
  {
   "cell_type": "code",
   "execution_count": 35,
   "id": "9a1b6941",
   "metadata": {},
   "outputs": [],
   "source": [
    "# Create a dictionary with the model names and accuracy scores\n",
    "data = {\n",
    "    'Model': ['Linear Regression', 'Random Forest', 'Gradient Boosting', 'SVR', 'XGBoost', 'Ridge Regression', 'Lasso Regression', 'Elastic Net', 'Polynomial Regression', 'Decision Tree Regression', 'Neural Network Regression'],\n",
    "    'Train Accuracy': [train_r, train_r1, train_r2, train_r3, train_r4, train_r5, train_r6, train_r7, train_r8, train_accuracy_dt, r2_train_nn1],\n",
    "    'Test Accuracy': [test_r, test_r1, test_r2, test_r3, test_r4, test_r5, test_r6, test_r7, test_r8, test_accuracy_dt, r2_test_nn1]\n",
    "}\n",
    "\n",
    "# Create a DataFrame\n",
    "models = pd.DataFrame(data)"
   ]
  },
  {
   "cell_type": "code",
   "execution_count": 36,
   "id": "5e5663e5",
   "metadata": {},
   "outputs": [
    {
     "data": {
      "image/png": "[encoded data removed]",
      "text/plain": [
       "<Figure size 1008x1152 with 2 Axes>"
      ]
     },
     "metadata": {},
     "output_type": "display_data"
    }
   ],
   "source": [
    "import matplotlib.pyplot as plt\n",
    "import seaborn as sns\n",
    "\n",
    "# Set the style to include grids\n",
    "sns.set_style(\"whitegrid\")\n",
    "\n",
    "plt.figure(figsize=(14, 16))\n",
    "\n",
    "# Plot train accuracy\n",
    "plt.subplot(2, 1, 1)\n",
    "sns.barplot(x=models['Model'], y=models['Train Accuracy'])\n",
    "plt.title(\"Models' Train Accuracy\", size=15)\n",
    "plt.ylabel('Accuracy')\n",
    "plt.xticks(rotation=45, ha='right')  # Rotate x-axis labels\n",
    "\n",
    "# Add accuracy values above each bar\n",
    "for i, v in enumerate(models['Train Accuracy']):\n",
    "    plt.text(i, v, \"{:.4f}\".format(v), ha='center', va='bottom')\n",
    "\n",
    "# Plot test accuracy\n",
    "plt.subplot(2, 1, 2)\n",
    "sns.barplot(x=models['Model'], y=models['Test Accuracy'])\n",
    "plt.title(\"Models' Test Accuracy\", size=15)\n",
    "plt.xlabel('Model')\n",
    "plt.ylabel('Accuracy')\n",
    "plt.xticks(rotation=45, ha='right')  # Rotate x-axis labels\n",
    "\n",
    "# Add accuracy values above each bar\n",
    "for i, v in enumerate(models['Test Accuracy']):\n",
    "    plt.text(i, v, \"{:.3f}\".format(v), ha='center', va='bottom')\n",
    "\n",
    "sns.set(style=\"ticks\", rc={\"axes.grid\": True, \"grid.linestyle\": \":\"})  # Add more gridlines\n",
    "\n",
    "plt.tight_layout()\n",
    "plt.show()"
   ]
  },
  {
   "cell_type": "markdown",
   "id": "9210caf3",
   "metadata": {},
   "source": [
    "## Data augmentation"
   ]
  },
  {
   "cell_type": "code",
   "execution_count": 37,
   "id": "3c58079d",
   "metadata": {},
   "outputs": [],
   "source": [
    "from imblearn.over_sampling import RandomOverSampler\n",
    "\n",
    "ros = RandomOverSampler(random_state=42)\n",
    "X_augmented, y_augmented = ros.fit_resample(X, y)"
   ]
  },
  {
   "cell_type": "code",
   "execution_count": 38,
   "id": "6b2929ca",
   "metadata": {},
   "outputs": [],
   "source": [
    "X_train, X_test, y_train, y_test = train_test_split(X_augmented, y_augmented, test_size=0.2, random_state=42)"
   ]
  },
  {
   "cell_type": "code",
   "execution_count": 39,
   "id": "83ba7dd3",
   "metadata": {},
   "outputs": [
    {
     "name": "stdout",
     "output_type": "stream",
     "text": [
      "R^2 Score: 0.9996412922095974\n"
     ]
    }
   ],
   "source": [
    "from sklearn.ensemble import RandomForestRegressor\n",
    "\n",
    "# Create a Random Forest Regression model\n",
    "model1 = RandomForestRegressor()\n",
    "\n",
    "# Train the model\n",
    "model1.fit(X_train, y_train)\n",
    "\n",
    "# Make predictions on the test set\n",
    "y_pred1 = model1.predict(X_test)\n",
    "\n",
    "# Calculate R^2 score\n",
    "r2 = r2_score(y_test, y_pred1)\n",
    "print(\"R^2 Score:\", r2)"
   ]
  },
  {
   "cell_type": "code",
   "execution_count": 40,
   "id": "b627fc01",
   "metadata": {},
   "outputs": [
    {
     "name": "stdout",
     "output_type": "stream",
     "text": [
      "Training R^2 Score: 0.9998460312657443\n",
      "Testing R^2 Score: 0.9996412922095974\n"
     ]
    }
   ],
   "source": [
    "# Make predictions on the training set\n",
    "y_train_pred = model1.predict(X_train)\n",
    "\n",
    "# Calculate R^2 score for training set\n",
    "train_r2 = r2_score(y_train, y_train_pred)\n",
    "print(\"Training R^2 Score:\", train_r2)\n",
    "\n",
    "# Make predictions on the test set\n",
    "y_test_pred = model1.predict(X_test)\n",
    "\n",
    "# Calculate R^2 score for test set\n",
    "test_r2 = r2_score(y_test, y_test_pred)\n",
    "print(\"Testing R^2 Score:\", test_r2)"
   ]
  },
  {
   "cell_type": "code",
   "execution_count": null,
   "id": "ab926dcd",
   "metadata": {},
   "outputs": [],
   "source": []
  }
 ],
 "metadata": {
  "kernelspec": {
   "display_name": "Python 3 (ipykernel)",
   "language": "python",
   "name": "python3"
  },
  "language_info": {
   "codemirror_mode": {
    "name": "ipython",
    "version": 3
   },
   "file_extension": ".py",
   "mimetype": "text/x-python",
   "name": "python",
   "nbconvert_exporter": "python",
   "pygments_lexer": "ipython3",
   "version": "3.9.7"
  }
 },
 "nbformat": 4,
 "nbformat_minor": 5
}
